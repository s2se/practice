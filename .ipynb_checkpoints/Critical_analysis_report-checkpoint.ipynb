{
 "cells": [
  {
   "cell_type": "markdown",
   "id": "64250e16",
   "metadata": {},
   "source": [
    "# Critical Analysis :Comp2200 46282858 Sangeun Lee 2/11/23"
   ]
  },
  {
   "cell_type": "markdown",
   "id": "9c8aa2f2",
   "metadata": {},
   "source": [
    "##  1. Handling null values\n",
    " 데이터에서 null 값이 발생하면 모델링을 하거나 예측값을 유추할 때 문제가 발생할 수 있다. 따라서 데이터 셋을 로드할 때 데이터 셋에 null 값이 있는지 반드시 확인한 후 처리를 하여 null 값이 데이터셋에 남아있지 않도록 해야 한다. null 값을 처리하는 방법은 크게 두 가지가 있는데 첫번 째는 null 값이 존재하는 행을 삭제하는 방법이다. 하지만 null 값이 있는 데이터가 전체 데이터셋에서 25% 이상일 경우 다른 방법으로 처리하는 것을 고려해야 한다. 왜냐하면 행을 삭제하면 데이터의 규모가 줄어들기 때문이다. 기존 데이터가 줄어들수록 얻을 수 있는 예측값의 정확도가 떨어질 수 있다. 그렇다면 데이터를 삭제하는 것 왜에 다른 방법은 무엇이 있을까. null 값을 다른 값으로 대체하는 것이다. 삽입할 수 있는 값은 각 변수의 평균이나 중앙값이다. 아무 값이나 삽입하면 데이터의 전체 분포에 영향을 줄 수 있기 때문에 아무 값이나 삽입하지 않는다. 이제 제공된 노트북 파일을 살펴보겠다. Critical analysis의 데이터 클리닝에서는 오류가 있다. 제공된 정보를 살펴보면 not.fully.paid변수는 결측값이 하나 존재한다. 제공된 파일에서는 그것을 평균값으로 대체 하였다. 아래는 평균값으로 대체한 data셋의 head함수를 써 상위 5개 행을 살펴본 그림이다. \n",
    " <img src=\"https://raw.githubusercontent.com/s2se/s2se.github.io/main/image/appendix1.png\" width=\"700\" height=\"500\"/>\n",
    "not.fully.paid변수는 Whether the borrower will be fully paid or not 을 담고 있는 변수다. 변수는 binary 로 0과 1로 표기된다. 하지만 맨 위 행의 not.fully.paid 값은 0.160071로 0과 1로 표기되지 않아 이 값으로 데이터 마이닝을 할 경우 정확하지 않은 변수로 인해 모델의 정확도가 떨어질 수 있다. 물론 오류가 있는 값은 전체 데이터에서 하나밖에 존재하지 않아 현재 모델에 적용한다면 크게 영향을 받지 않을 수 있다. 하지만 만약 이런 변수가 25%이상이라면 에러가 발생할 수 있다. 여기서 제안할 수 있는 solution은 결측값이 있는 행을 삭제하여 모델 학습을 수행하는 것이다. 다시 말하지만 결측값이 발생한 행의 수가 매우 적기 때문에 데이터를 삭제하더라도 모델링에 미치는 영향은 극히 적을 것이다. 다음은 정확한 데이터 클리닝 작업을 위해 수정된 코드이다. \n",
    "```\n",
    "Data = Data.dropna(axis=0)\n",
    "Data.info()\n",
    "Data.head()\n",
    "```\n"
   ]
  },
  {
   "cell_type": "markdown",
   "id": "728b9239",
   "metadata": {},
   "source": []
  },
  {
   "cell_type": "code",
   "execution_count": null,
   "id": "edbb3327",
   "metadata": {},
   "outputs": [],
   "source": []
  }
 ],
 "metadata": {
  "kernelspec": {
   "display_name": "Python 3 (ipykernel)",
   "language": "python",
   "name": "python3"
  },
  "language_info": {
   "codemirror_mode": {
    "name": "ipython",
    "version": 3
   },
   "file_extension": ".py",
   "mimetype": "text/x-python",
   "name": "python",
   "nbconvert_exporter": "python",
   "pygments_lexer": "ipython3",
   "version": "3.11.3"
  }
 },
 "nbformat": 4,
 "nbformat_minor": 5
}
